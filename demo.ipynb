{
 "cells": [
  {
   "cell_type": "code",
   "execution_count": 1,
   "metadata": {},
   "outputs": [],
   "source": [
    "%load_ext autoreload\n",
    "%autoreload 2\n",
    "\n",
    "from src.naver_places_plugin.naver_places import *"
   ]
  },
  {
   "cell_type": "code",
   "execution_count": 2,
   "metadata": {},
   "outputs": [
    {
     "name": "stdout",
     "output_type": "stream",
     "text": [
      "BROWSING: https://m.place.naver.com/place/1588568877\n",
      "BROWSING: https://m.place.naver.com/place/1954265803\n",
      "BROWSING: https://m.place.naver.com/place/1185421575\n",
      "BROWSING: https://m.place.naver.com/place/1085879302\n",
      "BROWSING: https://m.place.naver.com/place/1902910345\n",
      "type restaurant\n",
      "type restaurant\n",
      "type restaurant\n",
      "type restaurant\n",
      "type restaurant\n"
     ]
    }
   ],
   "source": [
    "results = search_places('서울대입구역 근처 일식')"
   ]
  },
  {
   "cell_type": "code",
   "execution_count": 3,
   "metadata": {},
   "outputs": [
    {
     "name": "stdout",
     "output_type": "stream",
     "text": [
      "{'url': 'https://m.place.naver.com/place/1588568877', 'name': '동경산책', 'description': '일식당', 'rating': '4.49/5', 'n_visitor_reviews': '971', 'n_blog_reviews': '4,538', 'reviews': 'The restaurant serves delicious and affordable Japanese food with generous portions. It is a great place for dates and the staff are friendly and helpful. The sushi rolls are highly recommended, as well as the other menu items such as the skewers and hot pot dishes. The restaurant is clean and has a nice interior. However, it can get busy during peak hours and may be a bit pricey for frequent visits. Overall, the reviewers highly recommend the restaurant and plan to visit again.', 'menus': ['사케롤 정식 사케롤 정식 대표 변동', '마제루롤 정식 마제루롤 정식 대표 변동', '아나고사케동 아나고사케동 대표 변동', '스키야키 나베정식 스키야키 나베정식 대표 변동']}\n",
      "\n",
      "{'url': 'https://m.place.naver.com/place/1954265803', 'name': '다이히로', 'description': '일식당', 'rating': '4.44/5', 'n_visitor_reviews': '506', 'n_blog_reviews': '565', 'reviews': 'The reviews are all positive and praise the restaurant for its authentic Japanese home-style cuisine, cozy and cute interior design, and friendly and attentive service. The menu items that received particular praise include the Skewered Yakitori, the Curry, the Gyudon, the Sake Don, the Unagi Don, and the Shrimp Tempura. The restaurant is also noted for its reasonable prices and good value for money. Overall, the reviewers highly recommend the restaurant and plan to visit again.', 'menus': ['사케동 사케동 대표 수제소스를 뿌린 밥위에 직접 손질한 생연어를 올린 연어 덮밥. 12,000원', '스끼야끼 스끼야끼 대표 일본의 대표적인 소고기 요리로 갖가지 신선한 채소와 소고기,육수가 한데 어우러진 국물요리. 12,000원', '규동 규동 소고기와 야채에 불맛을 입혀 조화를 이룬 소고기 덮밥. 11,000원', '부타동 부타동 특제 된장소스를 사용하여 담백함을 살린 돼지고기 덮밥. 11,000원', '간장새우덮밥 간장새우덮밥 달달한 간장소스에 새우를 숙성시켜 조화를 이룬 간장새우 덮밥. 11,000원']}\n",
      "\n",
      "{'url': 'https://m.place.naver.com/place/1185421575', 'name': '이진칸 샤로수길점', 'description': '이자카야', 'rating': None, 'n_visitor_reviews': '445', 'n_blog_reviews': '275', 'reviews': 'The reviews are all positive and praise the food, service, and atmosphere of the restaurant. Many recommend the motsunabe and skewers, and some mention the variety of menu options. The staff is also noted for being friendly and helpful. The restaurant is described as a good spot for dates or casual gatherings. Some reviewers mention receiving a welcome drink link through Naver reservation. Overall, the restaurant seems to be a popular and enjoyable spot for Japanese cuisine in the Shinsa-dong area.', 'menus': ['모리아와세 모리아와세 대표 최고의 숙성을 자부하는 모듬숙성회입니다. 11가지의 어종으로 구성되어 내어드립니다. 49,000원', \"모츠나베 모츠나베 대표 일어'모츠'는 '소나 돼지의 내장'\\n나베는 '전골' 이란 뜻입니다. 35,000원\", '사바보우즈시 사바보우즈시 시메한 고등어를 아부리하여 밧테라 틀에 눌러 내어드립니다. 22,000원', '후토마끼 후토마끼 고퀄리티 하이엔드 후토마끼 입니다. 30,000원', \"부타가쿠니 부타가쿠니 일어'부타가쿠니'는 일본 가정식 중 하나인 '각진 돼지조림' 입니다. 22,000원\"]}\n",
      "\n",
      "{'url': 'https://m.place.naver.com/place/1085879302', 'name': '별이오름', 'description': '일식당', 'rating': None, 'n_visitor_reviews': '565', 'n_blog_reviews': '219', 'reviews': 'The reviews are for a Japanese restaurant in Sharoosugil that serves delicious and fresh seafood dishes, particularly the Aburi Kaisendon and Hutomaki. The restaurant is small but clean, and the staff is friendly and accommodating. The side dishes and rice are also tasty, and the egg custard is a must-try. Some reviewers recommend making a reservation and trying the Wagyu beef or shrimp tempura, which are sometimes offered as a complimentary service for returning customers. Overall, the restaurant is highly recommended for a romantic date or a solo lunch.', 'menus': ['카이센동 카이센동 대표 노량진 중매인과의 협업을 통해 계절에 따른 가장 신선한 해산물들을 담아낸 해산물덮밥 18,900원', '아마에비동 아마에비동 대표 눅진하고 달큰한 단새우를 일본식 갓절임과 노른자를 곁들여 아낌없이 담아낸 단새우덮밥 17,900원', '후토마끼 후토마끼 2p- 4,900원 / half(5p)- 12,900원 / 한줄(10p)- 24,900원 4,900~24,900', '사케동 사케동 슈페리얼등급 생연어를 두툼하게 썰어 양파, 마늘칩을 곁들여 담아낸 샤로수길 NO.1_사케동 15,900원', '훈연아부리카이센동 훈연아부리카이센동 겉만 살짝 구운 후 사과나무로 훈연하여 불맛과 풍미가 더해진 카이센동 19,900원']}\n",
      "\n",
      "{'url': 'https://m.place.naver.com/place/1902910345', 'name': '수제요리섬', 'description': '일식당', 'rating': '4.75/5', 'n_visitor_reviews': '108', 'n_blog_reviews': '110', 'reviews': 'The reviews are about a Japanese restaurant located near Seoul National University. The food is handmade and freshly cooked, providing an authentic Japanese taste. The menu includes dishes such as donkotsunabe, sashimi, and ramen. The staff is friendly and the atmosphere is pleasant. The restaurant is recommended for both solo dining and group gatherings. The prices are reasonable and the portions are generous. Overall, the restaurant is highly praised for its delicious food and unique menu items.', 'menus': ['호루몬 아키소바 호루몬 아키소바 대표 한우의 내장과 쫄깃한 중화면으로 만든 아키소바 22,000원', '명란 한우 모츠나베 명란 한우 모츠나베 대표 속초 어시장에서 엄선하여 고른 저염 명란과 한우 곱창, 대창, 막창을 듬뿍넣은 특제나베 45,000원', '도미머리지리 도미머리지리 소주를 계속 먹게 되는 도미 머리 맑은 탕\\n*일일 한정수량 32,000원', '사시미 모리아와세(모둠회) 사시미 모리아와세(모둠회) 수제요리섬의 시그니쳐 숙성사시미 38,000원', '돈코츠나베 돈코츠나베 돈코츠 국물로 맛을 낸 나베요리 36,000원']}\n",
      "\n"
     ]
    }
   ],
   "source": [
    "for result in results:\n",
    "    print(result)\n",
    "    print()"
   ]
  },
  {
   "cell_type": "code",
   "execution_count": null,
   "metadata": {},
   "outputs": [],
   "source": []
  }
 ],
 "metadata": {
  "kernelspec": {
   "display_name": "autogpt",
   "language": "python",
   "name": "python3"
  },
  "language_info": {
   "codemirror_mode": {
    "name": "ipython",
    "version": 3
   },
   "file_extension": ".py",
   "mimetype": "text/x-python",
   "name": "python",
   "nbconvert_exporter": "python",
   "pygments_lexer": "ipython3",
   "version": "3.10.8"
  },
  "orig_nbformat": 4
 },
 "nbformat": 4,
 "nbformat_minor": 2
}
