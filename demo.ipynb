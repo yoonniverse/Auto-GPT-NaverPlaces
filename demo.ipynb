{
 "cells": [
  {
   "cell_type": "code",
   "execution_count": 1,
   "metadata": {},
   "outputs": [],
   "source": [
    "%load_ext autoreload\n",
    "%autoreload 2\n",
    "\n",
    "from src.naver_places_plugin.naver_places import *"
   ]
  },
  {
   "cell_type": "code",
   "execution_count": 20,
   "metadata": {},
   "outputs": [],
   "source": [
    "driver = get_selenium_driver()\n",
    "driver.get('https://m.place.naver.com/place/1588568877/photo')"
   ]
  },
  {
   "cell_type": "code",
   "execution_count": 11,
   "metadata": {},
   "outputs": [],
   "source": [
    "soup = BeautifulSoup(driver.page_source, 'html.parser')\n",
    "description_section = soup.find_all('div', {'class': 'place_section_content'})[1]\n",
    "divs = description_section.find('div').find_all('div', recursive=False)"
   ]
  },
  {
   "cell_type": "code",
   "execution_count": 2,
   "metadata": {},
   "outputs": [
    {
     "name": "stdout",
     "output_type": "stream",
     "text": [
      "BROWSING: https://m.place.naver.com/place/1588568877\n",
      "BROWSING: https://m.place.naver.com/place/1954265803\n",
      "BROWSING: https://m.place.naver.com/place/1185421575\n",
      "BROWSING: https://m.place.naver.com/place/1085879302\n",
      "BROWSING: https://m.place.naver.com/place/1902910345\n"
     ]
    }
   ],
   "source": [
    "results = search_places('서울대입구역 근처 일식', 5)"
   ]
  },
  {
   "cell_type": "code",
   "execution_count": 3,
   "metadata": {},
   "outputs": [
    {
     "name": "stdout",
     "output_type": "stream",
     "text": [
      "[{'url': 'https://m.place.naver.com/place/1588568877', 'name': '동경산책', 'type': '일식당', 'info': ['주소 서울 관악구 관악로14길 30 2층 지도 내비게이션 거리뷰 2 서울대입구   역  2번 출구   에서 343   m', '영업시간 영업 전 11:30에 영업 시작 11시 30분에 영업 시작 펼쳐보기', '0507-1343-0666 안내 복사', '결제수단 제로페이', '편의 단체석, 무선 인터넷', '홈페이지 http://www.instagram.com/dongkyungsancheck', '설명 안녕하세요~\\n일본 가정식 동경 산책입니다', '정보 수정 제안 정보 수정 제안하기'], 'rating': '4.49/5', 'n_visitor_reviews': '971', 'n_blog_reviews': '4,566', 'reviews': 'The restaurant serves delicious and affordable Japanese food with generous portions. It is a great place for dates and the staff are friendly and helpful. The sushi rolls are highly recommended, as well as the other menu items such as the skewers and hot pot dishes. The restaurant is clean and has a nice interior. However, it can get busy during peak hours and may be a bit pricey for frequent visits. Overall, the reviewers highly recommend the restaurant and plan to visit again.', 'photos': ['https://tinyurl.com/2os55vlx', 'https://tinyurl.com/2dvynaco', 'https://tinyurl.com/2pwt3r8m']}, {'url': 'https://m.place.naver.com/place/1954265803', 'name': '다이히로', 'type': '일식당', 'info': ['주소 서울 관악구 행운1길 3 1층 다이히로 지도 내비게이션 거리뷰 2 낙성대   역  5번 출구   에서 493   m', '영업시간 영업 전 11:30에 영업 시작 11시 30분에 영업 시작 펼쳐보기', '02-882-4402 복사', '결제수단 제로페이', '편의 단체석, 포장, 배달, 무선 인터넷', '홈페이지 http://instagram.com/daihiro_/', \"설명 *매장 정보 - 다이히로는 2017년 행운동에 오픈한 일본 가정식 전문점 입니다. - 지브리로 꾸며진 아기자기한 내부 및 정갈한 음식 으로 일본에 온 듯한 감성을 더해줍니다. - 대표메뉴인 스키야키를 비롯해 불맛이 일품인 규동 그리고 특제소스를\\n사용한 부타동,우나기동과 직접 손질하여 만드는 사케동, 100시간의 숙성을 거치는 간장새우덮밥, 히로카레 까지 다양한 한 끼를 부담 없이 즐길 수 있습니다. - 주차가 필요 하시다면 '서울 관악구 행운4길 21까치 공영주차장' 에서 가능 합니\\n다. 남녀노소 누구나 좋아하는 다이히로 !! 행운동에서 일본 가정식의 감성을 느껴 보세요 : 내용 더보기\", '정보 수정 제안 정보 수정 제안하기'], 'rating': '4.44/5', 'n_visitor_reviews': '506', 'n_blog_reviews': '565', 'reviews': 'The reviews are all positive and praise the restaurant for its authentic Japanese home-style cooking, good value for money, and cozy atmosphere with decorations inspired by Studio Ghibli films. The menu items that received particular praise include the Skewered Meat Hot Pot, Beef Bowl, and Sake Don. The staff is also noted for being friendly and accommodating. Overall, the restaurant is highly recommended for those looking for a satisfying Japanese meal in a comfortable setting.', 'photos': ['https://tinyurl.com/2zpvhlfj', 'https://tinyurl.com/2ol9rbe8', 'https://tinyurl.com/2golf2lf']}, {'url': 'https://m.place.naver.com/place/1185421575', 'name': '이진칸 샤로수길점', 'type': '이자카야', 'info': ['주소 서울 관악구 남부순환로226길 9 3층 지도 내비게이션 거리뷰 2 서울대입구   역  1번 출구   에서 133   m', '영업시간 영업 종료 17:30에 영업 시작 17시 30분에 영업 시작 펼쳐보기', '0507-1318-1867 안내 복사', '편의 단체석, 예약, 무선 인터넷, 남/녀 화장실 구분', '홈페이지 https://catchtable.co.kr/ijinkan_ys 인스타그램', '설명 컨템포러리 일식 파인다이닝 이진칸입니다. 신선한 재료, 청결함을 기본으로 엄청난 노력이 들어간 고퀄리티 요리를 선보이겠습니다. 내용 더보기', '수상 및 인증 식약처 인증 위생등급  매우우수  음식점 접기 유효기간:\\xa0 2023.05.03~2025.05.02 2023년 5월 3일~2025년 5월 2일', '정보 수정 제안 정보 수정 제안하기'], 'rating': None, 'n_visitor_reviews': '447', 'n_blog_reviews': '275', 'reviews': \"The reviews are all positive and praise the food, service, and atmosphere of the restaurant. Many recommend the motsunabe and skewers, and some mention the variety of menu options. The staff is also noted for being friendly and helpful. The restaurant's interior design is also mentioned as being stylish and upscale. Overall, the reviews recommend the restaurant for a date night or a night out with friends.\", 'photos': ['https://tinyurl.com/2k2d2suj', 'https://tinyurl.com/2qhxws92', 'https://tinyurl.com/2nu9jn73']}, {'url': 'https://m.place.naver.com/place/1085879302', 'name': '별이오름', 'type': '일식당', 'info': ['주소 서울 관악구 남부순환로230길 50 102호 지도 내비게이션 거리뷰 2 서울대입구   역  1번 출구   에서 466   m', '영업시간 영업 전 11:30에 영업 시작 11시 30분에 영업 시작 펼쳐보기', '0507-1420-2477 안내 복사', '결제수단 제로페이', '편의 포장, 배달, 무선 인터넷', '홈페이지 https://www.instagram.com/stars_are_rising', '설명 저희 별이오름은 카이센동을 주 메뉴로 하며 아마에비동, 후토마끼 등 매일 아침 경매로 공수한 해산물을 정성스럽게 숙성시켜 제공하고 있습니다. 해산물 러버들의 숨겨진 성지로 불리고 있으며, 따스한 매장 분위기 속 정성과 감성 충만한 비주얼의 음식을 \\n경험하실 수 있습니다. 또한 상권 특성상, 주차 공간이 없기때문에 주변 공영 주차장을 이용 부탁드립니다. (가장 가까운 주차장은 관악구청 주차장입니다.) 문의 사항 및 문제 발생 시 매장으로 연락 주시면 신속하게 조치해 드리겠습니다. 감사합니다. 내용 더보기'], 'rating': None, 'n_visitor_reviews': '565', 'n_blog_reviews': '219', 'reviews': 'The reviews are for a Japanese restaurant in Sharoosugil that serves delicious and fresh seafood dishes, particularly the Aburi Kaisendon and Hutomaki. The restaurant is small but clean, and the staff is friendly and accommodating. The side dishes and rice are also tasty, and the egg custard is a must-try. Some reviewers recommend making a reservation and trying the Wagyu beef or shrimp tempura, which are sometimes offered as a complimentary service for returning customers. Overall, the restaurant is highly recommended for a romantic date or a solo lunch.', 'photos': ['https://tinyurl.com/2hagugvq', 'https://tinyurl.com/2jqr4sdt', 'https://tinyurl.com/2zzmy66b']}, {'url': 'https://m.place.naver.com/place/1902910345', 'name': '수제요리섬', 'type': '일식당', 'info': ['주소 서울 관악구 관악로 195 111호~113호 지도 내비게이션 거리뷰 2 서울대입구   역  6번 출구   에서 181   m', '영업시간 영업 종료 18:00에 영업 시작 18시 0분에 영업 시작 펼쳐보기', '02-878-8255 복사', '결제수단 제로페이', '편의 단체석, 주차, 예약, 무선 인터넷, 남/녀 화장실 구분', '홈페이지 https://catchtable.co.kr/neckfrost 인스타그램', '설명 일본인이 직접 운영하는 카운터에서의 혼술, 데이트, 홀 단체(30인 이상 가능), 룸 단체(최대14인)까지 가능한 깔끔한 분위기의 이자카야.', '정보 수정 제안 정보 수정 제안하기'], 'rating': '4.75/5', 'n_visitor_reviews': '108', 'n_blog_reviews': '110', 'reviews': 'The reviews are about a Japanese restaurant located near Seoul National University. The food is handmade and freshly cooked, providing an authentic Japanese taste. The menu includes dishes such as donkotsunabe, sashimi, and ramen. The staff is friendly and the atmosphere is pleasant. The restaurant is recommended for both solo dining and group gatherings. The prices are reasonable and the portions are generous. Overall, the restaurant is highly praised for its delicious food and unique menu items.', 'photos': ['https://tinyurl.com/2peeq8xr', 'https://tinyurl.com/2laz6z54', 'https://tinyurl.com/2nd4nm6n']}]\n",
      "If above text is too long, save it to file.\n"
     ]
    }
   ],
   "source": [
    "print(results)"
   ]
  },
  {
   "cell_type": "code",
   "execution_count": null,
   "metadata": {},
   "outputs": [],
   "source": []
  }
 ],
 "metadata": {
  "kernelspec": {
   "display_name": "autogpt",
   "language": "python",
   "name": "python3"
  },
  "language_info": {
   "codemirror_mode": {
    "name": "ipython",
    "version": 3
   },
   "file_extension": ".py",
   "mimetype": "text/x-python",
   "name": "python",
   "nbconvert_exporter": "python",
   "pygments_lexer": "ipython3",
   "version": "3.10.8"
  },
  "orig_nbformat": 4
 },
 "nbformat": 4,
 "nbformat_minor": 2
}
