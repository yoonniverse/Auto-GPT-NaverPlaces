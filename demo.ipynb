{
 "cells": [
  {
   "cell_type": "code",
   "execution_count": 1,
   "metadata": {},
   "outputs": [],
   "source": [
    "%load_ext autoreload\n",
    "%autoreload 2\n",
    "\n",
    "from src.naver_places_plugin.naver_places import *"
   ]
  },
  {
   "cell_type": "code",
   "execution_count": 2,
   "metadata": {},
   "outputs": [
    {
     "name": "stdout",
     "output_type": "stream",
     "text": [
      "BROWSING: https://m.place.naver.com/restaurant/1588568877\n",
      "BROWSING: https://m.place.naver.com/restaurant/1136183514\n",
      "BROWSING: https://m.place.naver.com/restaurant/1999378240\n",
      "BROWSING: https://m.place.naver.com/restaurant/1169204457\n",
      "BROWSING: https://m.place.naver.com/restaurant/1750208902\n"
     ]
    }
   ],
   "source": [
    "results = get_nearby_places('서울대입구역', type='restaurant')"
   ]
  },
  {
   "cell_type": "code",
   "execution_count": 3,
   "metadata": {},
   "outputs": [
    {
     "name": "stdout",
     "output_type": "stream",
     "text": [
      "{'url': 'https://m.place.naver.com/restaurant/1588568877', 'rating': '4.49/5', 'n_visitor_reviews': '971', 'n_blog_reviews': '4,537', 'reviews': 'The restaurant serves delicious and reasonably priced Japanese food with generous portions. The atmosphere is clean and comfortable, making it a great place for dates or casual dining. The staff is friendly and helpful, and there are special menu items worth trying. Some reviewers recommend the sushi rolls and the marinated beef rolls. Overall, the restaurant is highly recommended for those who enjoy Japanese cuisine.', 'menus': ['사케롤 정식 사케롤 정식 대표 변동', '마제루롤 정식 마제루롤 정식 대표 변동', '아나고사케동 아나고사케동 대표 변동', '스키야키 나베정식 스키야키 나베정식 대표 변동']}\n",
      "\n",
      "{'url': 'https://m.place.naver.com/restaurant/1136183514', 'rating': '4.68/5', 'n_visitor_reviews': '2,091', 'n_blog_reviews': '3,376', 'reviews': 'The reviews are for the Juven Cuba restaurant, with most reviewers praising the unique and delicious food, particularly the Cuban sandwich and pasta dishes. The portions are also noted to be generous. The staff is described as friendly and the atmosphere of the restaurant is pleasant. Some reviewers mention the limited seating space, but overall, the restaurant is recommended for its good food and service.', 'menus': ['파운드 폭립 플래터 파운드 폭립 플래터 대표 37,000원', '쿠바 샌드위치 세트 쿠바 샌드위치 세트 대표 수제 샌드위치와 바삭한 메가크런치 감자 스틱과 칩, 쿠바 살사와 싱그러운 미니과일 샐러드, 그리고 음료까지 한 번에 즐길 수 있는 가성비 좋은 쥬벤쿠바의 대표적인 메뉴 16,000원', '잠발라야 잠발라야 대표 촉촉한 라이스, 부드러운 닭고기, 초리초, 소시지, 새우를 매콤하게 소쁘리또 소스에 볶아낸 뒤 수란을 올려 근사하게 내는 쥬벤쿠바의 일품요리 16,000원', '투움바 파스타 투움바 파스타 대표 통통한 새우와 꾸덕하고 매콤한 크림이 듬뿍, 푸짐한 아메리칸 스타일의 크림파스타 17,000원', '쿠바샌드위치 오리지널 쿠바샌드위치 오리지널 수제 그릴치즈 샌드위치. 치아바타에 쿠바 머스터드, 모조 포크, 라이어너, 피클, 스위스 치즈, 체다 치즈를 넣어 바삭하게 구워내는 명품 샌드위치. 맥주나 탄산과 궁합이 좋다. 10,000원']}\n",
      "\n",
      "{'url': 'https://m.place.naver.com/restaurant/1999378240', 'rating': None, 'n_visitor_reviews': '947', 'n_blog_reviews': '2,779', 'reviews': 'The restaurant in question is located near Seoul National University and is highly recommended for its spicy and delicious food, particularly the octopus dishes. The waiting system is efficient, and the staff is friendly and accommodating. The menu includes a variety of options, including pizza and hot pot, and the prices are reasonable. The atmosphere is clean and comfortable, making it a great spot for a date or a solo meal. Overall, the restaurant is a must-visit for anyone in the area looking for a satisfying and flavorful meal.', 'menus': ['석삼이세트 석삼이세트 대표 불향가득한 매운쭈꾸미와 삼겹살\\n화덕에구운 고르곤졸라피자의 환상적인 맛 ! ! ! 34,000원', '눈꽃세트 눈꽃세트 대표 불향가득한 매운쭈꾸미와 하얀 눈꽃치즈\\n화덕에구운 고르곤졸라피자의 환상적인 맛 ! ! ! 33,000원', '석만이세트 석만이세트 불향가득만 매운쭈꾸미와\\n화덕에구운 고르곤졸라피자의 환상적인 맛 ! ! ! 29,000원', '철만이세트 철만이세트 쭈앤쭈 특제양념의 맛있게 매운 철판쭈꾸미와\\n화덕에구운 고르곤졸라피자,쭈꾸미만두의 만남! ! 29,000원', '쭈꾸미튀김 쭈꾸미튀김 바삭바삭한 쭈꾸미튀김과 토마토스튜의 만남 ! ! !\\n맥주안주에 추천 ! ! ! 17,000원']}\n",
      "\n",
      "{'url': 'https://m.place.naver.com/restaurant/1169204457', 'rating': None, 'n_visitor_reviews': '685', 'n_blog_reviews': '178', 'reviews': 'The reviews are all positive and praise the food and atmosphere of the restaurant. The menu items that received the most compliments were the donkatsu, hutomaki, and pasta dishes. The restaurant is recommended for dates and family gatherings, but there may be a wait due to its popularity. The staff is also noted for being friendly and helpful. Overall, the reviews suggest that the restaurant is worth a visit for its delicious food and charming ambiance.', 'menus': ['연어 후토마끼(5pcs) 연어 후토마끼(5pcs) 대표 숙성연어를 듬뿍 넣은 일본식 대왕김밥 13,900원', '육회후토마끼(5pcs) 육회후토마끼(5pcs) 대표 비법 양념으로 버무린 육회를 가득 넣은 후토마끼 13,900원', '텐마끼 (텐동 후토마끼) (5pcs) 텐마끼 (텐동 후토마끼) (5pcs) 대표 고소하고 짭쪼롬한 우나기와 바삭한 텐동의 속재료가 가득 들어간 후토마끼 13,900원', '항정살 명이 오일 파스타 항정살 명이 오일 파스타 대표 새콤한 명이페스토에 항정살이 들어간 오일 파스타 14,000원', '통베이컨 매콤크림파스타 통베이컨 매콤크림파스타 대표 통베이컨으로 기름을 빼낸 후 청양고추를 더한 매콤한 버섯 크림파스타 15,000원']}\n",
      "\n",
      "{'url': 'https://m.place.naver.com/restaurant/1750208902', 'rating': '4.51/5', 'n_visitor_reviews': '920', 'n_blog_reviews': '863', 'reviews': 'The Backdon Sharosu-gil Road restaurant is highly recommended for its good quality meat, diverse side dishes, and reasonable prices. The restaurant has a cozy and safe atmosphere with cute interior design and visible fire extinguishers. The pork belly and special cuts of meat are particularly delicious, and the dirty bomb egg dish is a must-try. The truffle cream fried rice is also highly recommended. The staff is friendly and accommodating, and the service is excellent. Overall, the restaurant is a great choice for meat lovers and those looking for a satisfying meal.', 'menus': ['종합세트 2인 종합세트 2인 대표 꼬들살+뽈항정+뽈살+꽃살(430g) 39,900원', '종합세트 3인 종합세트 3인 대표 꼬들살+뽈항정+뽈살+꽃살(720g) 59,900원', '빽돈 껍데기 빽돈 껍데기 대표 170g 7,000원', '더티폭탄 계란찜 더티폭탄 계란찜 대표 7,000원', '함박산 볶음밥 함박산 볶음밥 대표 10,000원']}\n",
      "\n"
     ]
    }
   ],
   "source": [
    "for result in results:\n",
    "    print(result)\n",
    "    print()"
   ]
  },
  {
   "cell_type": "code",
   "execution_count": null,
   "metadata": {},
   "outputs": [],
   "source": []
  }
 ],
 "metadata": {
  "kernelspec": {
   "display_name": "autogpt",
   "language": "python",
   "name": "python3"
  },
  "language_info": {
   "codemirror_mode": {
    "name": "ipython",
    "version": 3
   },
   "file_extension": ".py",
   "mimetype": "text/x-python",
   "name": "python",
   "nbconvert_exporter": "python",
   "pygments_lexer": "ipython3",
   "version": "3.10.8"
  },
  "orig_nbformat": 4
 },
 "nbformat": 4,
 "nbformat_minor": 2
}
